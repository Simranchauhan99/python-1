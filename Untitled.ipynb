{
 "cells": [
  {
   "cell_type": "code",
   "execution_count": 17,
   "metadata": {},
   "outputs": [
    {
     "ename": "SyntaxError",
     "evalue": "invalid syntax (<ipython-input-17-da39841c65c8>, line 1)",
     "output_type": "error",
     "traceback": [
      "\u001b[1;36m  File \u001b[1;32m\"<ipython-input-17-da39841c65c8>\"\u001b[1;36m, line \u001b[1;32m1\u001b[0m\n\u001b[1;33m    TASK 1\u001b[0m\n\u001b[1;37m         ^\u001b[0m\n\u001b[1;31mSyntaxError\u001b[0m\u001b[1;31m:\u001b[0m invalid syntax\n"
     ]
    }
   ],
   "source": [
    "TASK 1\n",
    "\n",
    "\n",
    " print('syntax of if statement')\n",
    "\n",
    "if condition :\n",
    "      satement(s)\n"
   ]
  },
  {
   "cell_type": "code",
   "execution_count": 3,
   "metadata": {},
   "outputs": [
    {
     "name": "stdout",
     "output_type": "stream",
     "text": [
      "enter age of a person :20\n",
      "He is eligible to cast the vote \n",
      "I am NOT in if\n"
     ]
    }
   ],
   "source": [
    "# Program to determine whether a person is eligible to vote\n",
    "\n",
    "Age = int(input('enter age of a person :'))\n",
    "if Age >= 18:\n",
    "     print (\"He is eligible to cast the vote \")\n",
    "print (\"I am NOT in if\")"
   ]
  },
  {
   "cell_type": "code",
   "execution_count": 4,
   "metadata": {},
   "outputs": [
    {
     "ename": "SyntaxError",
     "evalue": "invalid syntax (<ipython-input-4-9f0868d0ed42>, line 1)",
     "output_type": "error",
     "traceback": [
      "\u001b[1;36m  File \u001b[1;32m\"<ipython-input-4-9f0868d0ed42>\"\u001b[1;36m, line \u001b[1;32m1\u001b[0m\n\u001b[1;33m    syntax of else if\u001b[0m\n\u001b[1;37m            ^\u001b[0m\n\u001b[1;31mSyntaxError\u001b[0m\u001b[1;31m:\u001b[0m invalid syntax\n"
     ]
    }
   ],
   "source": [
    "syntax of else if\n",
    "if condition :\n",
    "    statement(s)\n",
    "else:\n",
    "    statement(s)"
   ]
  },
  {
   "cell_type": "code",
   "execution_count": 5,
   "metadata": {},
   "outputs": [
    {
     "name": "stdout",
     "output_type": "stream",
     "text": [
      "enter number5\n",
      "odd number\n"
     ]
    }
   ],
   "source": [
    "#program to find whether a given number is odd or even\n",
    "\n",
    "x = int(input(\"enter number\"))\n",
    "if (x%2==0):\n",
    "    print (\"even number\")\n",
    "else:\n",
    "    print (\"odd number\")"
   ]
  },
  {
   "cell_type": "code",
   "execution_count": 6,
   "metadata": {},
   "outputs": [
    {
     "ename": "SyntaxError",
     "evalue": "invalid syntax (<ipython-input-6-1f59827a9b8e>, line 1)",
     "output_type": "error",
     "traceback": [
      "\u001b[1;36m  File \u001b[1;32m\"<ipython-input-6-1f59827a9b8e>\"\u001b[1;36m, line \u001b[1;32m1\u001b[0m\n\u001b[1;33m    syntax of if-elif-else\u001b[0m\n\u001b[1;37m            ^\u001b[0m\n\u001b[1;31mSyntaxError\u001b[0m\u001b[1;31m:\u001b[0m invalid syntax\n"
     ]
    }
   ],
   "source": [
    "syntax of if-elif-else\n",
    " if condition:\n",
    "        statement(s)\n",
    " elif condition:\n",
    "    statement(s)\n",
    "elif condition:\n",
    "    statement(s)\n",
    "    else:\n",
    "        statement(s)\n",
    "        "
   ]
  },
  {
   "cell_type": "code",
   "execution_count": 7,
   "metadata": {},
   "outputs": [
    {
     "name": "stdout",
     "output_type": "stream",
     "text": [
      "enter the percentage of a student40.1\n",
      "D\n"
     ]
    }
   ],
   "source": [
    "# program to accept percentage of a student and display the grade\n",
    "perc = float(input(\"enter the percentage of a student\"))\n",
    "if perc > 85 :\n",
    "    print('A')\n",
    "elif perc > 70 and perc <=85 :\n",
    "    print('B')\n",
    "elif perc > 60 and perc <= 70:\n",
    "    print('C')\n",
    "else:\n",
    "    print ('D')\n",
    "    "
   ]
  },
  {
   "cell_type": "code",
   "execution_count": 9,
   "metadata": {},
   "outputs": [
    {
     "ename": "IndentationError",
     "evalue": "unindent does not match any outer indentation level (<tokenize>, line 4)",
     "output_type": "error",
     "traceback": [
      "\u001b[1;36m  File \u001b[1;32m\"<tokenize>\"\u001b[1;36m, line \u001b[1;32m4\u001b[0m\n\u001b[1;33m    else  #optional\u001b[0m\n\u001b[1;37m    ^\u001b[0m\n\u001b[1;31mIndentationError\u001b[0m\u001b[1;31m:\u001b[0m unindent does not match any outer indentation level\n"
     ]
    }
   ],
   "source": [
    "syntax for loop\n",
    " for <control_variable> in <sequence >:\n",
    "        <statement in body of loop>\n",
    "    else  #optional\n",
    "     <statement>\n",
    "        "
   ]
  },
  {
   "cell_type": "code",
   "execution_count": 15,
   "metadata": {},
   "outputs": [
    {
     "ename": "IndentationError",
     "evalue": "unexpected indent (<ipython-input-15-7ee2e09ba10c>, line 2)",
     "output_type": "error",
     "traceback": [
      "\u001b[1;36m  File \u001b[1;32m\"<ipython-input-15-7ee2e09ba10c>\"\u001b[1;36m, line \u001b[1;32m2\u001b[0m\n\u001b[1;33m    num=3\u001b[0m\n\u001b[1;37m    ^\u001b[0m\n\u001b[1;31mIndentationError\u001b[0m\u001b[1;31m:\u001b[0m unexpected indent\n"
     ]
    }
   ],
   "source": [
    "# program to generate table of a number using for loop\n",
    " num=3\n",
    "    for i in range(1, 11):\n",
    "      print (num, 'x' , i, '=', num*i)\n",
    "    "
   ]
  },
  {
   "cell_type": "code",
   "execution_count": null,
   "metadata": {},
   "outputs": [],
   "source": []
  }
 ],
 "metadata": {
  "kernelspec": {
   "display_name": "Python 3",
   "language": "python",
   "name": "python3"
  },
  "language_info": {
   "codemirror_mode": {
    "name": "ipython",
    "version": 3
   },
   "file_extension": ".py",
   "mimetype": "text/x-python",
   "name": "python",
   "nbconvert_exporter": "python",
   "pygments_lexer": "ipython3",
   "version": "3.7.3"
  }
 },
 "nbformat": 4,
 "nbformat_minor": 2
}
