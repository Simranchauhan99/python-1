{
 "cells": [
  {
   "cell_type": "code",
   "execution_count": 1,
   "metadata": {},
   "outputs": [],
   "source": [
    "#NumPy is the fundamental package for scientific computing in Python.\n",
    "#It is a Python library that provides a multidimensional array object, various derived objects and an assortment of routines for fast operations on arrays, including mathematical, logical, shape manipulation, sorting, selecting, I/O, discrete Fourier transforms, basic linear algebra, basic statistical operations, random simulation and much more."
   ]
  },
  {
   "cell_type": "code",
   "execution_count": 15,
   "metadata": {},
   "outputs": [],
   "source": [
    "#Numpy is a library that used for computing scientific/mathematical data. Other usages are in:\n",
    "\n",
    "#- Numerical Analysis\n",
    "#- Linear algebra\n",
    "#- Matrix computations\n",
    "\n"
   ]
  },
  {
   "cell_type": "code",
   "execution_count": 16,
   "metadata": {},
   "outputs": [],
   "source": [
    "#features of Numpy-\n",
    "\n",
    "#NumPy stands on CPython, a non optimizing bytecode interpreter.\n",
    "#Multidimensional arrays.\n",
    "#Functions andoperators for these arrays\n",
    "#Python alternatives to MATLAB.\n",
    "#ndarray- n-dimensional arrays.\n",
    "#Fourier transformsand shapes manipulation.\n",
    "#Linear algebra and random number generation."
   ]
  },
  {
   "cell_type": "code",
   "execution_count": 10,
   "metadata": {},
   "outputs": [
    {
     "name": "stdout",
     "output_type": "stream",
     "text": [
      "['hello', 'Hi']\n"
     ]
    }
   ],
   "source": [
    "#why we need numpy?\n",
    "#Since, Python does not have built-in support for Arrays, but Python lists can be used instead:\n",
    "\n",
    "\n",
    "array = ['hello', 'Hi']\n",
    "print(array)\n",
    "\n",
    "#but its not an array* it's still a lst"
   ]
  },
  {
   "cell_type": "code",
   "execution_count": 8,
   "metadata": {},
   "outputs": [
    {
     "name": "stdout",
     "output_type": "stream",
     "text": [
      "[0 1 2 3 4 5]\n"
     ]
    }
   ],
   "source": [
    "# create an array\n",
    "\n",
    "import numpy as numbers\n",
    "a = numbers.array([0,1,2,3,4,5])\n",
    "print(a)"
   ]
  },
  {
   "cell_type": "code",
   "execution_count": 11,
   "metadata": {},
   "outputs": [
    {
     "name": "stdout",
     "output_type": "stream",
     "text": [
      "[[ 0  1  2  3  4  5]\n",
      " [ 6  7  8  9 10 11]]\n"
     ]
    }
   ],
   "source": [
    "# for the 2D, 3D etc arrays in Numpy to calculate big data in terms of including columns and rows:\n",
    "\n",
    "import numpy as numbers\n",
    "a = numbers.array([(0,1,2,3,4,5),(6,7,8,9,10,11)])\n",
    "print(a)"
   ]
  },
  {
   "cell_type": "code",
   "execution_count": 12,
   "metadata": {},
   "outputs": [
    {
     "name": "stdout",
     "output_type": "stream",
     "text": [
      "2\n"
     ]
    }
   ],
   "source": [
    "#*To know the dimension of the array whether it's is 2D 3D or more simply:\n",
    "\n",
    "print(a.ndim)"
   ]
  },
  {
   "cell_type": "code",
   "execution_count": 13,
   "metadata": {},
   "outputs": [
    {
     "name": "stdout",
     "output_type": "stream",
     "text": [
      "12\n"
     ]
    }
   ],
   "source": [
    "#To know the size of an array\n",
    "\n",
    "print(a.size)"
   ]
  },
  {
   "cell_type": "code",
   "execution_count": 14,
   "metadata": {},
   "outputs": [
    {
     "name": "stdout",
     "output_type": "stream",
     "text": [
      "(2, 6)\n"
     ]
    }
   ],
   "source": [
    "#To know the shape of an array:\n",
    "print(a.shape)\n",
    "#ti will tell rows and column"
   ]
  },
  {
   "cell_type": "code",
   "execution_count": null,
   "metadata": {},
   "outputs": [],
   "source": []
  }
 ],
 "metadata": {
  "kernelspec": {
   "display_name": "Python 3",
   "language": "python",
   "name": "python3"
  },
  "language_info": {
   "codemirror_mode": {
    "name": "ipython",
    "version": 3
   },
   "file_extension": ".py",
   "mimetype": "text/x-python",
   "name": "python",
   "nbconvert_exporter": "python",
   "pygments_lexer": "ipython3",
   "version": "3.7.3"
  }
 },
 "nbformat": 4,
 "nbformat_minor": 2
}
